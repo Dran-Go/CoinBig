{
 "cells": [
  {
   "cell_type": "code",
   "execution_count": null,
   "metadata": {
    "collapsed": true
   },
   "outputs": [],
   "source": [
    "from hashlib import md5\n",
    "import requests\n",
    "import json\n",
    "import time\n",
    "import re\n",
    "import urllib.request as request\n",
    "from bs4 import BeautifulSoup"
   ]
  },
  {
   "cell_type": "code",
   "execution_count": null,
   "metadata": {
    "collapsed": true
   },
   "outputs": [],
   "source": [
    "def writeOrderInfo(text):\n",
    "    fh = open('订单信息.txt', 'a')\n",
    "    fh.write(text+'\\n')\n",
    "    fh.close()"
   ]
  },
  {
   "cell_type": "markdown",
   "metadata": {},
   "source": [
    "## 第三方接口"
   ]
  },
  {
   "cell_type": "code",
   "execution_count": null,
   "metadata": {
    "collapsed": true
   },
   "outputs": [],
   "source": [
    "# 非小号接口：抓取最新整体市场行情（做为风控参照）（单位：USDT）\n",
    "def getFxhPrice(symbol):\n",
    "    symbolList = {'BTC_USDT': 'bitcoin', 'ETH_USDT': 'ethereum'}\n",
    "    url = 'https://www.feixiaohao.com/currencies/'+symbolList[symbol]\n",
    "    headers = {'User-Agent': 'Mozilla/5.0 (Windows NT 10.0; WOW64) AppleWebKit/537.36 (KHTML, like Gecko) Chrome/52.0.2743.116 Safari/537.36'}\n",
    "    requestss = request.Request(url,\n",
    "                                method='GET',\n",
    "                                headers=headers)\n",
    "    data = request.urlopen(requestss).read().decode('utf-8')\n",
    "    soup = BeautifulSoup(data,'html.parser')\n",
    "    priceText = soup.find_all('div',attrs={'class':'sub'})[4].get_text()\n",
    "    priceStr = \"\"\n",
    "    for i in re.findall(r\"\\d+\", re.findall(r\"\\$(.*)\\xa0\\xa0\", priceText)[0]):\n",
    "        priceStr+=i\n",
    "    priceInt = int(priceStr)\n",
    "    return priceInt"
   ]
  },
  {
   "cell_type": "markdown",
   "metadata": {},
   "source": [
    "## CoinBig官方接口"
   ]
  },
  {
   "cell_type": "code",
   "execution_count": null,
   "metadata": {
    "collapsed": true
   },
   "outputs": [],
   "source": [
    "# create sign\n",
    "def addSign(params, secretKey):\n",
    "    signStr = \"\"\n",
    "    for key in params.keys():\n",
    "        signStr += (\"&\"+key+\"=\"+str(params[key]))\n",
    "    signStr = signStr[1:]\n",
    "    signStr += (\"&secret_key=\"+secretKey)\n",
    "    sign = md5(signStr.encode(\"utf8\")).hexdigest().upper()\n",
    "    params['sign'] = sign\n",
    "    return params"
   ]
  },
  {
   "cell_type": "code",
   "execution_count": null,
   "metadata": {
    "collapsed": true
   },
   "outputs": [],
   "source": [
    "# 接口1：获取用户资产信息\n",
    "def getAssetInfo(session, apiKey, secretKey):\n",
    "    Time = int(time.time() * 1000)\n",
    "    data = {\"apikey\": apiKey,\n",
    "            \"time\": Time}\n",
    "    newdata = addSign(data, secretKey)\n",
    "    redata = session.post('https://www.coinbig.com/api/publics/v1/userinfo', data=newdata).content.decode(encoding='UTF8')\n",
    "    try:\n",
    "        redatadict = json.loads(redata)\n",
    "    except:\n",
    "        redatadict = 1\n",
    "        print(\"获取用户资产信息getAssetInfo接口信息错误！\\n\\n\",redata)\n",
    "    return redatadict"
   ]
  },
  {
   "cell_type": "code",
   "execution_count": null,
   "metadata": {
    "collapsed": true
   },
   "outputs": [],
   "source": [
    "# 接口2：获取订单详情\n",
    "def getOrderInfo(session, apiKey, secretKey, orderId):\n",
    "    Time = int(time.time() * 1000)\n",
    "    data = {\"apikey\": apiKey,\n",
    "            \"order_id\": orderId, \n",
    "            \"time\": Time}\n",
    "    newdata = addSign(data, secretKey)\n",
    "    redata = session.post('https://www.coinbig.com/api/publics/v1/order_info', data=newdata).content.decode(encoding='UTF8')\n",
    "    try:\n",
    "        redatadict = json.loads(redata)\n",
    "    except:\n",
    "        redatadict = 1\n",
    "        print(\"获取订单详情getOrderInfo接口信息错误！\\n\\n\",redata)\n",
    "    return redatadict"
   ]
  },
  {
   "cell_type": "code",
   "execution_count": null,
   "metadata": {
    "collapsed": true
   },
   "outputs": [],
   "source": [
    "# 接口3：撤销订单\n",
    "def cancelOrder(session, apiKey, secretKey, orderId):\n",
    "    Time = int(time.time() * 1000)\n",
    "    data = {\"apikey\": apiKey,\n",
    "            \"order_id\": orderId, \n",
    "            \"time\": Time}\n",
    "    newdata = addSign(data, secretKey)\n",
    "    redata = session.post('https://www.coinbig.com/api/publics/v1/cancel_order', data=newdata).content.decode(encoding='UTF8')\n",
    "    try:\n",
    "        redatadict = json.loads(redata)\n",
    "    except:\n",
    "        redatadict = 1\n",
    "        print(\"撤销订单cancelOrder接口信息错误！\\n\\n\",redata)\n",
    "    return redatadict"
   ]
  },
  {
   "cell_type": "code",
   "execution_count": null,
   "metadata": {
    "collapsed": true
   },
   "outputs": [],
   "source": [
    "# 接口4：获取行情\n",
    "def getTicker(session, symbol):\n",
    "    data = {\"symbol\": symbol}\n",
    "    urljoin = \"\"\n",
    "    for key in data.keys():\n",
    "        urljoin += (\"&\"+key+\"=\"+str(data[key]))\n",
    "    urljoin = urljoin[1:]\n",
    "    redata = session.get('https://www.coinbig.com/api/publics/v1/ticker?'+urljoin).content.decode(encoding='UTF8')\n",
    "    try:\n",
    "        redatadict = json.loads(redata)\n",
    "    except:\n",
    "        redatadict = 1\n",
    "        print(\"获取行情getTicker接口信息错误！\\n\\n\",redata)\n",
    "    return redatadict"
   ]
  },
  {
   "cell_type": "code",
   "execution_count": null,
   "metadata": {
    "collapsed": true
   },
   "outputs": [],
   "source": [
    "# 接口5：下单交易(单个挂单)\n",
    "def trade(session, apiKey, secretKey, tradeType, tradePrice, tradeAmount, symbol):\n",
    "    Time = int(time.time() * 1000)\n",
    "    data = {\"amount\": tradeAmount, \n",
    "            \"apikey\": apiKey, \n",
    "            \"price\": tradePrice, \n",
    "            \"symbol\": symbol, \n",
    "            \"time\": Time, \n",
    "            \"type\": tradeType}\n",
    "    newdata = addSign(data, secretKey)\n",
    "    redata = session.post('https://www.coinbig.com/api/publics/v1/trade', data=newdata).content.decode(encoding='UTF8')\n",
    "    try:\n",
    "        redatadict = json.loads(redata)\n",
    "    except:\n",
    "        redatadict = 1\n",
    "        print(\"下单交易trade接口信息错误！\\n\\n\",redata)\n",
    "    return redatadict"
   ]
  },
  {
   "cell_type": "code",
   "execution_count": null,
   "metadata": {
    "collapsed": true
   },
   "outputs": [],
   "source": [
    "# 接口6：获取交易深度列表\n",
    "def getDepthList(session, symbol):\n",
    "    data = {\"symbol\": symbol}\n",
    "    urljoin = \"\"\n",
    "    for key in data.keys():\n",
    "        urljoin += (\"&\"+key+\"=\"+str(data[key]))\n",
    "    urljoin = urljoin[1:]\n",
    "    redata = session.get('https://www.coinbig.com/api/publics/v1/depthList?'+urljoin).content.decode(encoding='UTF8')\n",
    "    try:\n",
    "        redatadict = json.loads(redata)\n",
    "    except:\n",
    "        redatadict = 1\n",
    "        print(\"获取交易深度列表getDepthList接口信息错误！\\n\\n\",redata)\n",
    "    return redatadict"
   ]
  },
  {
   "cell_type": "markdown",
   "metadata": {},
   "source": [
    "## 自动交易挖矿程序实现"
   ]
  },
  {
   "cell_type": "markdown",
   "metadata": {},
   "source": [
    "#### 1.luPrice()价格设置及检查函数，及子函数getCbMarketInfo()，getAcctAsset()，setupCheck()"
   ]
  },
  {
   "cell_type": "code",
   "execution_count": null,
   "metadata": {
    "collapsed": true
   },
   "outputs": [],
   "source": [
    "def getCbMarketInfo(session, run, symbol, timeDelay):\n",
    "    # ticker接口获取最新成交信息\n",
    "    tickerdata = getTicker(session, symbol)\n",
    "    if tickerdata==1:\n",
    "        run = 1\n",
    "        print(\"\\n\\n延迟30秒后继续！\")\n",
    "        time.sleep(30)\n",
    "    else:\n",
    "        try :\n",
    "            if int(tickerdata.get(\"code\"))==0:\n",
    "                tickPrice = tickerdata.get(\"data\").get('ticker')\n",
    "                # 最新成交价\n",
    "                tickLastPrice = float(tickPrice.get('last'))\n",
    "            else:\n",
    "                print(\"获取行情失败 | 错误：\"+tickerdata.get(\"msg\"))\n",
    "                input(\"错误确认修复后请按任意键继续\")\n",
    "                run = 1\n",
    "        except:\n",
    "            run = 1\n",
    "            print(\"页面获取错误，延迟60秒后继续！\")\n",
    "            time.sleep(60)\n",
    "    time.sleep(timeDelay)\n",
    "    marketdepthdata = getDepthList(session, symbol)\n",
    "    if marketdepthdata==1:\n",
    "        run = 1\n",
    "        print(\"\\n\\n延迟30秒后继续！\")\n",
    "        time.sleep(30)\n",
    "    else:\n",
    "        if int(marketdepthdata.get('code'))==0:\n",
    "            # 取买一和卖一的均价为当前挂单价格，保留小数点后四位\n",
    "            tickSBPrice = round((float(marketdepthdata.get(\"data\").get(\"asks\")[0].get('price'))+\n",
    "                                 float(marketdepthdata.get(\"data\").get(\"bids\")[0].get('price')))/2, 4)\n",
    "        else:\n",
    "            print(\"获取行情失败 | 错误：\"+marketdepthdata.get(\"msg\"))\n",
    "            input(\"错误确认修复后请按任意键继续\")\n",
    "            run = 1\n",
    "    time.sleep(timeDelay)\n",
    "    return run, tickLastPrice, tickSBPrice"
   ]
  },
  {
   "cell_type": "code",
   "execution_count": null,
   "metadata": {
    "collapsed": true
   },
   "outputs": [],
   "source": [
    "def getAcctAsset(session, run, apiKey, secretKey, timeDelay):\n",
    "    assetinfo = getAssetInfo(session, apiKey, secretKey)\n",
    "    if assetinfo==1:\n",
    "        run = 1\n",
    "        print(\"\\n\\n延迟30秒后继续！\")\n",
    "        time.sleep(30)\n",
    "    else:\n",
    "        if int(assetinfo.get(\"code\"))==0:\n",
    "            # 获取当前账户总资产\n",
    "            beginAsset = float(assetinfo.get(\"data\").get(\"info\").get(\"asset\").get(\"total\"))\n",
    "            # 获取当前账户现金（USDT）\n",
    "            beginUsdtAsset = float(assetinfo.get(\"data\").get(\"info\").get(\"free\").get(\"USDT\"))\n",
    "        else:\n",
    "            print(\"获取账户资产信息 | 错误：\"+assetinfo.get(\"msg\"))\n",
    "            input(\"错误确认修复后请按任意键继续\")\n",
    "            run = 1\n",
    "    time.sleep(timeDelay)\n",
    "    return run, beginAsset, beginUsdtAsset"
   ]
  },
  {
   "cell_type": "code",
   "execution_count": null,
   "metadata": {
    "collapsed": true
   },
   "outputs": [],
   "source": [
    "def setupCheck(run, lowerPrice, upperPrice, orderAmount, tickLastPrice, tickSBPrice, beginUsdtAsset, beginAsset, fxhPrice):\n",
    "    if lowerPrice>=upperPrice:\n",
    "        print(\"警告！自动交易价格上下限设置错误\")\n",
    "        run = 1\n",
    "    elif abs(upperPrice-lowerPrice)>0.001*(upperPrice+lowerPrice)/2:\n",
    "        isCont = input(\"警告！当前上下限价差超过了千一,矿损较大，继续执行请输入“YES”：\")\n",
    "        if isCont!=\"YES\":\n",
    "            run = 1\n",
    "    if abs(tickLastPrice-tickSBPrice)>0.001*tickLastPrice and run==0:\n",
    "        isCont = input(\"警告！当前上下限均价和CB盘口均价差距过大，继续执行请输入“YES”：\")\n",
    "        if isCont!=\"YES\":\n",
    "            run = 1\n",
    "    if abs((lowerPrice+upperPrice)/2-tickSBPrice)>0.001*tickSBPrice and run==0:\n",
    "        isCont = input(\"警告！当前上下限均价和CB现价差距过大，成交率会降低，继续执行请输入“YES”：\")\n",
    "        if isCont!=\"YES\":\n",
    "            run = 1\n",
    "    if abs((lowerPrice+upperPrice)/2-fxhPrice)>0.02*fxhPrice and run==0:\n",
    "        isCont = input(\"警告！当前上下限均价和非小号行情价差距过大，继续执行请输入“YES”：\")\n",
    "        if isCont!=\"YES\":\n",
    "            run = 1\n",
    "    # 检查账户资产是否满足开单条件\n",
    "    if (orderDirList[orderDirCode]==\"buy\" and orderAmount*upperPrice>float(beginUsdtAsset)) or \\\n",
    "    (orderDirList[orderDirCode]==\"sell\" and orderAmount*upperPrice>(float(beginAsset)-float(beginUsdtAsset))):\n",
    "        print(\"当前账号余额不足，无法开单，请调低单次挂单量！\")\n",
    "        run = 1\n",
    "    elif orderAmount*upperPrice>beginAsset*0.8:\n",
    "        isCont = input(\"警告！单次挂单数量过大，突发矿损不可控，继续执行请输入“YES”：\")\n",
    "        if isCont!=\"YES\":\n",
    "            run = 1\n",
    "    return run"
   ]
  },
  {
   "cell_type": "code",
   "execution_count": null,
   "metadata": {
    "collapsed": true
   },
   "outputs": [],
   "source": [
    "def luPrice(symbol, apiKey, secretKey, timeDelay):\n",
    "    \n",
    "    # 运行通过后开始自动交易，否则无限循环，直到设置符合要求（风控）\n",
    "    run = 0\n",
    "    \n",
    "    while run==0:\n",
    "        with requests.session() as MKsession:\n",
    "            headers = {'User-Agent': 'Mozilla/5.0 (Windows NT 10.0; WOW64) AppleWebKit/537.36 (KHTML, like Gecko) Chrome/67.0.3396.99 Safari/537.36'}\n",
    "            MKsession.headers.update(headers)\n",
    "            \n",
    "            # 获取非小号市价\n",
    "            fxhPrice = getFxhPrice(symbol)\n",
    "            \n",
    "            # 获取CB最新成交有关信息\n",
    "            run ,tickLastPrice, tickSBPrice = getCbMarketInfo(MKsession, run, symbol, timeDelay)\n",
    "            \n",
    "            # 获取账户资产信息\n",
    "            if run==0:\n",
    "                run, beginAsset, beginUsdtAsset = getAcctAsset(MKsession, run, apiKey, secretKey, timeDelay)\n",
    "                \n",
    "            if run==0:            \n",
    "                print(\"------------------------------------\\n*资产*\\nUSDT  ：\"+str(beginUsdtAsset)+\"\\n总资产：\"+str(beginAsset)\n",
    "                      +\"\\n*行情*\\n当前非小号价格   ：\"+str(fxhPrice)+\" USDT\\nCoinBig最新成交价：\"+str(tickLastPrice)+\n",
    "                      \" USDT\\nCoinBig买卖均价  ：\"+str(tickSBPrice)+\" USDT\\n建议最大开单区间【\"+str(round((tickSBPrice+tickLastPrice)*0.5*0.9997, 4))+\n",
    "                      \",\"+str(round((tickSBPrice+tickLastPrice)*0.5*1.0003, 4))+\"】\\n------------------------------------\")\n",
    "                lowerPrice = float(input(\"请输入自动交易价格下限：\"))\n",
    "                upperPrice = float(input(\"请输入自动交易价格上限：\"))\n",
    "                orderAmount = float(input(\"请输入单次挂单数量\"))\n",
    "                \n",
    "                # 对设置的lowerPrice，upperPrice，orderAmount进行检查\n",
    "                run = setupCheck(run, lowerPrice, upperPrice, orderAmount, tickLastPrice, tickSBPrice, beginUsdtAsset, beginAsset, fxhPrice)\n",
    "                \n",
    "        # 循环调整, run=0则运行正常，置1跳出，进入交易部分\n",
    "        if run == 0:\n",
    "            run = 1\n",
    "        else:\n",
    "            run = 0\n",
    "    return lowerPrice, upperPrice, orderAmount"
   ]
  },
  {
   "cell_type": "markdown",
   "metadata": {},
   "source": [
    "#### 2.orderProgram()下单函数，及子函数checkAsset()，getOrderPrice()，orderScan()"
   ]
  },
  {
   "cell_type": "code",
   "execution_count": null,
   "metadata": {
    "collapsed": true
   },
   "outputs": [],
   "source": [
    "def checkAsset(session, run, apiKey, secretKey, timeDelay):\n",
    "    realassetinfo = getAssetInfo(session, apiKey, secretKey)\n",
    "    if realassetinfo==1:\n",
    "        run = 1\n",
    "    else:\n",
    "        if int(realassetinfo.get(\"code\"))==0:\n",
    "            realAsset = float(realassetinfo.get(\"data\").get(\"info\").get(\"asset\").get(\"total\"))\n",
    "            # 当前资产小于初始资产的0.97倍（可修改）时报警退出！\n",
    "            if realAsset<beginAsset*0.97:\n",
    "                print(\"账号资产波动太大，请检查后重新运行！\")\n",
    "                writeOrderInfo(\"账号资产波动太大，请检查后重新运行！\")\n",
    "                run = 1\n",
    "        else:\n",
    "            print(\"获取账户资产信息 | 错误：\"+realassetinfo.get(\"msg\"))\n",
    "            run = 1\n",
    "    time.sleep(timeDelay)\n",
    "    return run"
   ]
  },
  {
   "cell_type": "code",
   "execution_count": null,
   "metadata": {
    "collapsed": true
   },
   "outputs": [],
   "source": [
    "def getOrderPrice(MODE, session, run, symbol, upperPrice, lowerPrice, timeDelay):\n",
    "    if MODE == 0:\n",
    "        # depthdata获取当前挂单情况，\"bids\"为买，\"asks\"为卖\n",
    "        depthdata = getDepthList(session, symbol)\n",
    "        if depthdata==1:\n",
    "            run = 1\n",
    "        else:\n",
    "            if int(depthdata.get('code'))==0:\n",
    "                # 取买一和卖一的均价为当前挂单价格，保留小数点后四位\n",
    "                orderPrice = round((float(depthdata.get(\"data\").get(\"asks\")[0].get('price'))+\n",
    "                                   float(depthdata.get(\"data\").get(\"bids\")[0].get('price')))/2, 4)\n",
    "            else:\n",
    "                print(\"获取市场挂单信息失败 | 错误：\"+depthdata.get(\"msg\"))\n",
    "                run = 1\n",
    "        time.sleep(timeDelay)\n",
    "    elif MODE==1:\n",
    "        if orderDirCode==0:\n",
    "            # 买入价格为设置价格上限\n",
    "            orderPrice = upperPrice\n",
    "        elif orderDirCode == 1:\n",
    "            # 卖出价格为设置价格下限\n",
    "            orderPrice = lowerPrice\n",
    "    return run, orderPrice"
   ]
  },
  {
   "cell_type": "code",
   "execution_count": null,
   "metadata": {
    "collapsed": true
   },
   "outputs": [],
   "source": [
    "def orderScan(session, run, apiKey, secretKey, orderId, orderDirCode, orderAmount, beginOrderAmount, timeDelay):\n",
    "    orderScanCounter = 0\n",
    "    while 1:\n",
    "        orderinfo = getOrderInfo(session, apiKey, secretKey, orderId)\n",
    "        if orderinfo==1:\n",
    "            run = 1\n",
    "            break\n",
    "        else:\n",
    "            if int(orderinfo.get(\"code\"))==0:\n",
    "                if int(orderinfo.get(\"data\").get(\"orderinfo\").get(\"status\"))==1:\n",
    "                    orderLeftCount = orderAmount\n",
    "                    print(\"订单\"+str(orderId)+\"暂无成交\")\n",
    "                elif int(orderinfo.get(\"data\").get(\"orderinfo\").get(\"status\"))==2:\n",
    "                    orderLeftCount = float(orderinfo.get(\"data\").get(\"orderinfo\").get(\"leftCount\"))\n",
    "                    print(\"订单\"+str(orderId)+\"尚未成交数量：\"+str(orderLeftCount))\n",
    "                elif int(orderinfo.get(\"data\").get(\"orderinfo\").get(\"status\"))==3:\n",
    "                    print(\"订单\"+str(orderId)+\"[价格：\"+str(orderPrice)+\"，数量：\"+str(orderAmount)+\"]完全成交！\")\n",
    "                    writeOrderInfo(\"订单\"+str(orderId)+\"完全成交！\\n------------------------------------\")\n",
    "                     # 订单完成，改变交易方向,初始化挂单量\n",
    "                    orderDirCode = (orderDirCode+1)%2\n",
    "                    orderAmount = beginOrderAmount\n",
    "                    # 退出监控\n",
    "                    break\n",
    "            else:\n",
    "                print(\"获取订单信息失败 | 错误：\"+orderinfo.get(\"msg\"))\n",
    "                writeOrderInfo(\"获取订单信息失败 | 错误：\"+orderinfo.get(\"msg\")+\"\\n\")\n",
    "                run = 1\n",
    "                break\n",
    "\n",
    "        #长时间未成交撤销后，重按最新价挂单\n",
    "        orderScanCounter +=1\n",
    "        if orderScanCounter>15:\n",
    "            print(\"订单长时间未完全成交(未成交数量：\"+str(orderLeftCount)+\")，即将撤销重挂！\")\n",
    "            writeOrderInfo(\"订单长时间未完全成交(未成交数量：\"+str(orderLeftCount)+\")，撤销重挂！\")\n",
    "            time.sleep(timeDelay)\n",
    "            cancelorderdata = cancelOrder(session, apiKey, secretKey, orderId)\n",
    "            if cancelorderdata==1:\n",
    "                run = 1\n",
    "                break\n",
    "            else:   \n",
    "                if int(cancelorderdata.get(\"code\"))==0:\n",
    "                    print(\"撤单成功\\n------------------------------------\")\n",
    "                    writeOrderInfo(\"订单\"+str(orderId)+\"撤单成功\\n\")\n",
    "                    # 撤单成功后按未成交数量和方向（不改动）继续挂单\n",
    "                    orderAmount = round(orderLeftCount, 4)\n",
    "                    #退出监控\n",
    "                    break\n",
    "                else:\n",
    "                    print(\"撤单失败 | 错误：\"+cancelorderdata.get(\"msg\"))\n",
    "                    writeOrderInfo(\"撤单失败 | 错误：\"+cancelorderdata.get(\"msg\")+\"\\n\")\n",
    "                    run = 1\n",
    "                    break\n",
    "    return run, orderDirCode, orderAmount"
   ]
  },
  {
   "cell_type": "code",
   "execution_count": null,
   "metadata": {
    "collapsed": true
   },
   "outputs": [],
   "source": [
    "def orderProgram(MODE, symbol, orderDirList, orderDirCode, lowerPrice, upperPrice, orderAmount, apiKey, secretKey, timeDelay):\n",
    "    beginOrderAmount = orderAmount\n",
    "    with requests.session() as CBsession:\n",
    "        headers = {'User-Agent': 'Mozilla/5.0 (Windows NT 10.0; WOW64) AppleWebKit/537.36 (KHTML, like Gecko) Chrome/67.0.3396.99 Safari/537.36'}\n",
    "        CBsession.headers.update(headers)\n",
    "        run = 0\n",
    "        counter = 0\n",
    "        while run==0:\n",
    "            # 检测当前资产和起始资产相比是否波动太大\n",
    "            run = checkAsset(CBsession, run, apiKey, secretKey, timeDelay)\n",
    "            if run==1:\n",
    "                break\n",
    "            # 获取下单价\n",
    "            run, orderPrice = getOrderPrice(MODE, CBsession, run, symbol, upperPrice, lowerPrice, timeDelay)\n",
    "            if run==1:\n",
    "                break\n",
    "            # 当前价格满足则挂单(限价单)\n",
    "            orderDir = orderDirList[orderDirCode]\n",
    "            if (MODE==0 and lowerPrice<=orderPrice<=upperPrice) or MODE==1:\n",
    "                writeOrderInfo(\"【挂单】 方向：\"+orderDir+\" | 价格：\"+str(orderPrice)+\" | 数量：\"+str(orderAmount)+\n",
    "                               \"       Time:\"+str(time.strftime('%Y-%m-%d %H:%M:%S',time.localtime())))\n",
    "                # 下单\n",
    "                tradedata = trade(CBsession, apiKey, secretKey, orderDir, orderPrice, orderAmount, symbol)\n",
    "                if tradedata==1:\n",
    "                    break\n",
    "                else:\n",
    "                    if int(tradedata.get(\"code\"))==0:\n",
    "                        counter = 0\n",
    "                        orderErrCounter = 0\n",
    "                        print(\"[方向：\"+orderDir+\"|价格：\"+str(orderPrice)+\"|数量：\"+str(orderAmount)+\"]挂单成功!\")\n",
    "                        writeOrderInfo(\"挂单成功\")\n",
    "                        orderId = tradedata.get(\"data\").get(\"order_id\")\n",
    "                        time.sleep(timeDelay)\n",
    "                        # 下单后循环监控该订单情况，完全成交后才继续\n",
    "                        run, orderDirCode, orderAmount = orderScan(CBsession, run, apiKey, secretKey, orderId, orderDirCode, orderAmount, beginOrderAmount, timeDelay)\n",
    "                        if run==1:\n",
    "                            break \n",
    "                    else:\n",
    "                        orderErrCounter+=1\n",
    "                        if orderErrCount>4:\n",
    "                            print(\"多次挂单失败,自动退出 | 错误：\"+tradedata.get(\"msg\"))\n",
    "                            writeOrderInfo(\"多次挂单失败 | 错误：\"+tradedata.get(\"msg\"))\n",
    "                            run = 1\n",
    "                            break\n",
    "                        else:\n",
    "                            print(str(orderDir)+orderDir+\"挂单失败,尝试第\"+str(orderErrCount)+\"次 | 错误：\"+tradedata.get(\"msg\"))\n",
    "                            writeOrderInfo(str(orderDir)+orderDir+\"挂单失败,尝试第\"+str(orderErrCount)+\"次 | 错误：\"+tradedata.get(\"msg\"))\n",
    "            else:\n",
    "                counter+=1\n",
    "                if counter>80:\n",
    "                    print(\"当前市场价长时间不符合开单区间，请修改开单价区间或稍后继续！\")\n",
    "                    break\n",
    "                else:\n",
    "                    print(\"当前价格[\"+str(orderPrice)+\"]不满足开单条件，继续监控\")"
   ]
  },
  {
   "cell_type": "markdown",
   "metadata": {},
   "source": [
    "#### 3.主函数"
   ]
  },
  {
   "cell_type": "code",
   "execution_count": null,
   "metadata": {
    "collapsed": true,
    "scrolled": false
   },
   "outputs": [],
   "source": [
    "if __name__ == \"__main__\":\n",
    "    \"\"\"\n",
    "    MODE为模式设置，有0和1两种，设为0时，下单价格为CB最新成交价，设为1时，下单价格为自定义的上下限价格。\n",
    "    （MODE=1能提高订单成交速度，但矿损会扩大，选择此方式的话请谨慎选择上下限价格）\n",
    "    \"\"\"\n",
    "    MODE = 0\n",
    "    \n",
    "    # API密钥配置\n",
    "    apiKey = \"***\"\n",
    "    secretKey = \"***\"\n",
    "\n",
    "    # 设置交易品种，0为BTC，1为ETH\n",
    "    symbolList = [\"BTC_USDT\", \"ETH_USDT\"]\n",
    "    symbolCode = 1\n",
    "    symbol = symbolList[symbolCode]\n",
    "\n",
    "    # 设置交易方向，orderDirList全为“buy”则一直挂买单，全为“sell”则一直挂卖单\n",
    "    orderDirList = [\"buy\", \"sell\"]\n",
    "    # 0则先买后卖，1则先卖后买\n",
    "    orderDirCode = 0\n",
    "    \n",
    "    # 全局时间延长设置（单位：s），在网络不稳定或平台有API访问时间限制时进行调整\n",
    "    timeDelay = 0\n",
    "    \n",
    "    # 价格设置及检查\n",
    "    lowerPrice, upperPrice, orderAmount = luPrice(symbol, apiKey, secretKey, timeDelay)\n",
    "    \n",
    "    # 下单主程序\n",
    "    orderProgram(MODE, symbol, orderDirList, orderDirCode, lowerPrice, upperPrice, orderAmount, apiKey, secretKey, timeDelay)\n",
    "                    \n",
    "    input(\"程序结束，请输入任意字符关闭！\")"
   ]
  }
 ],
 "metadata": {
  "kernelspec": {
   "display_name": "Python 3",
   "language": "python",
   "name": "python3"
  },
  "language_info": {
   "codemirror_mode": {
    "name": "ipython",
    "version": 3
   },
   "file_extension": ".py",
   "mimetype": "text/x-python",
   "name": "python",
   "nbconvert_exporter": "python",
   "pygments_lexer": "ipython3",
   "version": "3.6.1"
  }
 },
 "nbformat": 4,
 "nbformat_minor": 2
}
