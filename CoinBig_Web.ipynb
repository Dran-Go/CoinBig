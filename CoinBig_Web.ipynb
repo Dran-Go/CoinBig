{
 "cells": [
  {
   "cell_type": "code",
   "execution_count": null,
   "metadata": {
    "collapsed": true
   },
   "outputs": [],
   "source": [
    "from selenium import webdriver\n",
    "from bs4 import BeautifulSoup\n",
    "import urllib.request as request\n",
    "import time\n",
    "import re\n",
    "import urllib.parse"
   ]
  },
  {
   "cell_type": "code",
   "execution_count": null,
   "metadata": {
    "collapsed": true
   },
   "outputs": [],
   "source": [
    "def writeOrderInfo(text):\n",
    "    fh = open('订单信息.txt', 'a')\n",
    "    fh.write(text+'\\n')\n",
    "    fh.close()"
   ]
  },
  {
   "cell_type": "markdown",
   "metadata": {},
   "source": [
    "## 第三方接口"
   ]
  },
  {
   "cell_type": "code",
   "execution_count": null,
   "metadata": {
    "collapsed": true
   },
   "outputs": [],
   "source": [
    "# 从非小号抓取最新价格（USDT）\n",
    "def getFxhPrice(symbol):\n",
    "    symbolList = {'BTC_USDT': 'bitcoin', 'ETH_USDT': 'ethereum'}\n",
    "    url = 'https://www.feixiaohao.com/currencies/'+symbolList[symbol]\n",
    "    headers = {'User-Agent': 'Mozilla/5.0 (Windows NT 10.0; WOW64) AppleWebKit/537.36 (KHTML, like Gecko) Chrome/52.0.2743.116 Safari/537.36'}\n",
    "    requestss = request.Request(url,\n",
    "                                method='GET',\n",
    "                                headers=headers)\n",
    "    data = request.urlopen(requestss).read().decode('utf-8')\n",
    "    soup = BeautifulSoup(data,'html.parser')\n",
    "    priceText = soup.find_all('div',attrs={'class':'sub'})[4].get_text()\n",
    "    priceStr = \"\"\n",
    "    for i in re.findall(r\"\\d+\", re.findall(r\"\\$(.*)\\xa0\\xa0\", priceText)[0]):\n",
    "        priceStr+=i\n",
    "    priceInt = int(priceStr)\n",
    "    return priceInt"
   ]
  },
  {
   "cell_type": "markdown",
   "metadata": {},
   "source": [
    "## 自定义CoinBig接口"
   ]
  },
  {
   "cell_type": "code",
   "execution_count": null,
   "metadata": {
    "collapsed": true
   },
   "outputs": [],
   "source": [
    "# 获取交易数据，买一卖一取均价\n",
    "def getTradeData(browser, symbol, timeDelay):\n",
    "    if browser.current_url != 'https://www.coinbig.com/pl/trade/'+symbol:\n",
    "        browser.get('https://www.coinbig.com/pl/trade/'+symbol)\n",
    "        time.sleep(timeDelay)\n",
    "    pageSource = browser.page_source\n",
    "    time.sleep(timeDelay)\n",
    "    pageSource = browser.page_source\n",
    "    soup=BeautifulSoup(pageSource,'lxml')\n",
    "    # soup.find('div', class_='H_eigh W_list')\n",
    "    #买一\n",
    "    pricebuy = float(soup.find('div', class_='H_eight W_list').find_all('span', class_='bl b1_img')[0].text)\n",
    "    #卖一\n",
    "    pricesell = float(soup.find('div', class_='H_eigh W_list').find_all('span', class_='bl b1_img')[-1].text)\n",
    "    return round((pricesell+pricebuy)/2, 4)"
   ]
  },
  {
   "cell_type": "code",
   "execution_count": null,
   "metadata": {
    "collapsed": true
   },
   "outputs": [],
   "source": [
    "# 切换当前交易方向\n",
    "def orderDirExchange(browser, orderDir):\n",
    "#     orderDir = '买入'\n",
    "    orderDirDict = {'买入': 'money01', '卖出': 'money02'}\n",
    "    browser.find_element_by_xpath(\"//a[@aria-controls='{0}']\".format(orderDirDict[orderDir])).click()"
   ]
  },
  {
   "cell_type": "code",
   "execution_count": null,
   "metadata": {
    "collapsed": true
   },
   "outputs": [],
   "source": [
    "# 挂单\n",
    "def trade(browser, symbol, orderDir, orderPrice, orderAmount, timeDelay):\n",
    "    # 确认在当前交易***“品种”***及方向\n",
    "    while 1:\n",
    "        if browser.current_url != 'https://www.coinbig.com/pl/trade/'+order:\n",
    "            browser.get('https://www.coinbig.com/pl/trade/'+order)\n",
    "        pageSource = browser.page_source\n",
    "        soup=BeautifulSoup(pageSource,'lxml')\n",
    "        if soup.find('li', class_='activess').text[:2] != orderDir:\n",
    "            orderDirExchange(browser, orderDir)\n",
    "            time.sleep(timeDelay)\n",
    "        else:\n",
    "            break\n",
    "            \n",
    "    elementPrice = browser.find_element_by_xpath(\"//input[@id='txtPrice']\")\n",
    "    elementPrice.clear()\n",
    "    elementPrice.send_keys(str(orderPrice))\n",
    "    \n",
    "    if orderAmount == 0:\n",
    "        # orderAmount为0时，买入卖出全部\n",
    "        browser.find_element_by_xpath(\"//div[@style='left: 100%;']\").click()\n",
    "    else:\n",
    "        elementAmount = browser.find_element_by_xpath(\"//input[@id='txtSnumber']\")\n",
    "        elementAmount.clear()\n",
    "        elementAmount.send_keys(str(orderAmount))\n",
    "    try:\n",
    "        browser.find_element_by_xpath(\"//input[@value='{0}']\".format(orderDir)).click()\n",
    "        code = 0\n",
    "    except:\n",
    "        code = 1\n",
    "        \n",
    "    return code"
   ]
  },
  {
   "cell_type": "code",
   "execution_count": null,
   "metadata": {
    "collapsed": true
   },
   "outputs": [],
   "source": [
    "# 查询订单数\n",
    "def orderInfo(browser):\n",
    "    pageSource = browser.page_source\n",
    "    soup=BeautifulSoup(pageSource,'lxml')\n",
    "    orderCount = len(soup.find_all('div', class_='table-div table-div-sm text-center clearfix P_evenchild'))\n",
    "    return orderCount"
   ]
  },
  {
   "cell_type": "markdown",
   "metadata": {},
   "source": [
    "## 自动交易挖矿程序实现"
   ]
  },
  {
   "cell_type": "markdown",
   "metadata": {},
   "source": [
    "#### 1.login()登陆函数"
   ]
  },
  {
   "cell_type": "code",
   "execution_count": null,
   "metadata": {
    "collapsed": true
   },
   "outputs": [],
   "source": [
    "# 登陆并转到交易品种页面\n",
    "def login(CbAccount, CbPassword, symbol, timeDelay):\n",
    "    browser = webdriver.Chrome()\n",
    "    browser.get('https://www.coinbig.com/userlogin.html?lang=zh_CN')\n",
    "    # 将浏览器最大化\n",
    "    browser.maximize_window()\n",
    "    # 自动输入用户名密码\n",
    "    time.sleep(timeDelay*3)\n",
    "    elementAcc = browser.find_element_by_xpath(\"//input[@placeholder='登录账号']\")\n",
    "    elementAcc.send_keys(CbAccount)\n",
    "    elementPwd = browser.find_element_by_xpath(\"//input[@placeholder='登录密码']\")\n",
    "    elementPwd.send_keys(CbPassword)\n",
    "    # 模拟点击登录\n",
    "    browser.find_element_by_xpath(\"//input[@value='登录']\").click()\n",
    "    time.sleep(timeDelay)\n",
    "    # 转到交易品种页面\n",
    "    while 1:\n",
    "        if browser.current_url == 'https://www.coinbig.com/pl/trade' or browser.current_url == 'https://www.coinbig.com/pl/trade/BTC_USDT':\n",
    "            browser.get('https://www.coinbig.com/pl/trade/'+symbol)\n",
    "            time.sleep(timeDelay)\n",
    "            break\n",
    "    return browser"
   ]
  },
  {
   "cell_type": "markdown",
   "metadata": {},
   "source": [
    "#### 2.luPrice()价格设置及检查函数，及子函数setupCheck()"
   ]
  },
  {
   "cell_type": "code",
   "execution_count": null,
   "metadata": {
    "collapsed": true
   },
   "outputs": [],
   "source": [
    "def setupCheck(run, lowerPrice, upperPrice, cbPrice):\n",
    "    fxhPrice = getFxhPrice(symbol)\n",
    "    if lowerPrice>=upperPrice:\n",
    "        print(\"警告！自动交易价格上下限设置错误\")\n",
    "        run = 1\n",
    "    elif abs(upperPrice-lowerPrice)>0.001*(upperPrice+lowerPrice)/2:\n",
    "        isCont = input(\"警告！当前上下限价差超过了千一，继续执行请输入“YES”：\")\n",
    "        if isCont!=\"YES\":\n",
    "            run = 1\n",
    "    if abs((lowerPrice+upperPrice)/2-cbPrice)>0.001*cbPrice and run==0:\n",
    "        isCont = input(\"警告！当前上下限均价和CB现价差距过大，成交率会降低，继续执行请输入“YES”：\")\n",
    "        if isCont!=\"YES\":\n",
    "            run = 1\n",
    "    if abs((lowerPrice+upperPrice)/2-fxhPrice)>0.01*fxhPrice and run==0:\n",
    "        isCont = input(\"警告！当前上下限均价和非小号行情价差距过大，继续执行请输入“YES”：\")\n",
    "        if isCont!=\"YES\":\n",
    "            run = 1\n",
    "    return run"
   ]
  },
  {
   "cell_type": "code",
   "execution_count": null,
   "metadata": {
    "collapsed": true
   },
   "outputs": [],
   "source": [
    "def luPrice(browser, symbol, timeDelay):\n",
    "    # 输入价格符合检查后getCom置0，开始自动交易，否则无限循环\n",
    "    run = 0\n",
    "    while(run==0):\n",
    "        fxhPrice = getFxhPrice(symbol)\n",
    "        cbPrice = getTradeData(browser, symbol, timeDelay)                 \n",
    "        print(\"------------------------------------\\n当前非小号价格   ：\"+str(fxhPrice)+\" USDT\\nCoinBig盘口均价：\"+str(cbPrice)+\n",
    "              \" USDT\\n建议最大开单区间【\"+str(round(cbPrice*0.9997, 4))+\n",
    "              \",\"+str(round(cbPrice*1.0003, 4))+\"】\\n------------------------------------\")\n",
    "\n",
    "        lowerPrice = float(input(\"请输入自动交易价格下限：\"))\n",
    "        upperPrice = float(input(\"请输入自动交易价格上限：\"))\n",
    "        orderAmount = float(input(\"请输入单次挂单数量,为0则是按当前账号余额进行全买全卖操作\"))\n",
    "        \n",
    "        # 对设置的lowerPrice，upperPrice，orderAmount进行检查\n",
    "        run = setupCheck(run, lowerPrice, upperPrice, cbPrice)\n",
    "            \n",
    "        # 循环调整, run=0则运行正常，置1跳出，进入交易部分\n",
    "        if run == 0:\n",
    "            run = 1\n",
    "        else:\n",
    "            run = 0\n",
    "            \n",
    "    return lowerPrice, upperPrice, orderAmount"
   ]
  },
  {
   "cell_type": "markdown",
   "metadata": {},
   "source": [
    "#### 3.orderProgram()下单函数，及子函数getOrderPrice()，orderScan()"
   ]
  },
  {
   "cell_type": "code",
   "execution_count": null,
   "metadata": {
    "collapsed": true
   },
   "outputs": [],
   "source": [
    "def getOrderPrice(MODE, browser, symbol, upperPrice, lowerPrice, timeDelay):\n",
    "    if MODE == 0:\n",
    "        orderPrice = getTradeData(browser, symbol, timeDelay)\n",
    "    elif MODE == 1:\n",
    "        if orderDirCode == 0:\n",
    "            # 买入价格为设置价格上限\n",
    "            orderPrice = upperPrice\n",
    "        else:\n",
    "            # 卖出价格为设置价格下限\n",
    "            orderPrice = lowerPrice"
   ]
  },
  {
   "cell_type": "code",
   "execution_count": null,
   "metadata": {
    "collapsed": true
   },
   "outputs": [],
   "source": [
    "def orderScan(browser, symbol, lowerPrice, upperPrice, orderDirCode, timeDelay):\n",
    "    orderScanCounter = 0\n",
    "    while 1:\n",
    "        orderCount = orderInfo(browser)\n",
    "        #长时间未成交撤销后，重按最新价挂单\n",
    "        orderScanCounter +=1\n",
    "        if orderCount == 0:\n",
    "            writeOrderInfo(\"订单已成交\\n\")\n",
    "            print(\"订单已成交！\")\n",
    "            # 订单完成，改变交易方向,初始化挂单量\n",
    "            orderDirCode = (orderDirCode+1)%2\n",
    "            break\n",
    "        elif orderCount>1 or orderScanCounter>150:\n",
    "            writeOrderInfo(\"订单量异常或长时间未完全成交\\n\")\n",
    "            err = 1\n",
    "            while int(err) != 0:\n",
    "                err = input(\"订单量异常或长时间未完全成交，请处理完后输入“0”继续：\")\n",
    "            # 重新初始化设置\n",
    "            lowerPrice, upperPrice, orderAmount = luPrice(browser, symbol, timeDelay)\n",
    "            newOrderDirCode = int(input(\"请输入下面开始成交方向，0为买，1为卖：\"))\n",
    "            while newOrderDirCode!=0 and newOrderDirCode!=1:\n",
    "                newOrderDirCode = int(input(\"输入错误，请重新输入：\"))\n",
    "            orderDirCode = newOrderDirCode\n",
    "            break\n",
    "    return lowerPrice, upperPrice, orderAmount, orderDirCode"
   ]
  },
  {
   "cell_type": "code",
   "execution_count": null,
   "metadata": {
    "collapsed": true
   },
   "outputs": [],
   "source": [
    "def orderProgram(MODE, browser, symbol, orderDirList, orderDirCode, upperPrice, lowerPrice, orderAmount, timeDelay):\n",
    "    while 1:\n",
    "        counter = 0\n",
    "        try:\n",
    "            # 根据MODE，获取下单价\n",
    "            orderPrice = getOrderPrice(MODE, browser, symbol, upperPrice, lowerPrice, timeDelay)\n",
    "            \n",
    "            # 当前价格满足则挂单(限价单)\n",
    "            orderDir = orderDirList[orderDirCode]\n",
    "            \n",
    "            if lowerPrice<=orderPrice<=upperPrice:\n",
    "                writeOrderInfo(\"【挂单】\"+orderDir+\" | 价格：\"+str(orderPrice)+\" | 数量：\"+str(orderAmount)+\n",
    "                               \"       Time:\"+str(time.strftime('%Y-%m-%d %H:%M:%S',time.localtime())))\n",
    "                tradedata = trade(browser, symbol, orderDir, orderPrice, orderAmount)\n",
    "                if tradedata==1:\n",
    "                    # 挂单失败\n",
    "                    writeOrderInfo(\"挂单失败\")\n",
    "                    err = 1\n",
    "                    while int(err) != 0:\n",
    "                        err = input(\"挂单失败，请检查！异常处理完毕后请输入“0”继续：\")\n",
    "                else:\n",
    "                    print(\"[方向：\"+orderDir+\"|价格：\"+str(orderPrice)+\"|数量：\"+str(orderAmount)+\"]挂单成功!\")\n",
    "                    writeOrderInfo(\"挂单成功！\")\n",
    "                    time.sleep(timeDelay)\n",
    "                    # 下单后循环监控该订单情况，完全成交后才继续\n",
    "                    lowerPrice, upperPrice, orderAmount, orderDirCode = orderScan(browser, symbol, lowerPrice, \\\n",
    "                                                                                  upperPrice, orderDirCode, timeDelay)\n",
    "            else:\n",
    "                counter+=1\n",
    "                if counter>150:\n",
    "                    err = 1\n",
    "                    while int(err) != 0:\n",
    "                        err = input(\"当前市场价长时间不符合开单区间，请修改开单价区间或稍后输入“0”继续：\")\n",
    "                    lowerPrice, upperPrice, orderAmount = luPrice(browser, symbol, timeDelay)\n",
    "                else:\n",
    "                    print(\"当前价格[\"+str(orderPrice)+\"]不满足开单条件，继续监控\")\n",
    "                    time.sleep(timeDelay)\n",
    "        except:\n",
    "            err = 1\n",
    "            while int(err) != 0:\n",
    "                err = input(\"程序运行出错，请检查！异常处理完毕后请输入“0”继续：\")\n",
    "            newOrderDirCode = int(input(\"请输入下面开始成交方向，0为买，1为卖：\"))\n",
    "            while newOrderDirCode!=0 and newOrderDirCode!=1:\n",
    "                newOrderDirCode = int(input(\"输入错误，请重新输入：\"))\n",
    "            orderDirCode = newOrderDirCode"
   ]
  },
  {
   "cell_type": "markdown",
   "metadata": {},
   "source": [
    "#### 4.主函数"
   ]
  },
  {
   "cell_type": "code",
   "execution_count": null,
   "metadata": {
    "collapsed": true,
    "scrolled": false
   },
   "outputs": [],
   "source": [
    "if __name__ == \"__main__\":\n",
    "    \"\"\"\n",
    "    MODE为模式设置，有0和1两种，设为0时，下单价格为CB最新成交价，设为1时，下单价格为自定义的上下限价格。\n",
    "    （MODE=1能提高订单成交速度，但矿损会扩大，选择此方式的话请谨慎选择上下限价格）\n",
    "    \"\"\"\n",
    "    MODE = 0\n",
    "    \n",
    "    # CB账号配置\n",
    "    CbAccount = \"***\"\n",
    "    CbPassword = \"***\"\n",
    "    \n",
    "    # 设置交易品种，0为BTC，1为ETH\n",
    "    symbolList = ['BTC_USDT', 'ETH_USDT']\n",
    "    symbolCode = 0\n",
    "    symbol = symbolList[symbolCode]\n",
    "    \n",
    "    # 设置交易方向，orderDirList全为“buy”则一直挂买单，全为“sell”则一直挂卖单\n",
    "    orderDirList = [\"买入\", \"卖出\"]\n",
    "    # \"0\"则先买后卖，1则先卖后买\n",
    "    orderDirCode = 0\n",
    "    \n",
    "    # 全局时间延长设置（单位：s），在网络不稳定时进行调整\n",
    "    timeDelay = 2\n",
    "    \n",
    "    # 登陆\n",
    "    browser = login(CbAccount, CbPassword, symbol, timeDelay)\n",
    "    # 价格设置及检查\n",
    "    lowerPrice, upperPrice, orderAmount = luPrice(browser, symbol, timeDelay)\n",
    "\n",
    "    # 下单主程序\n",
    "    orderProgram(MODE, browser, symbol, orderDirList, orderDirCode, upperPrice, lowerPrice, orderAmount, timeDelay)\n",
    "                    \n",
    "    input(\"程序结束，请输入任意字符关闭！\")"
   ]
  },
  {
   "cell_type": "code",
   "execution_count": null,
   "metadata": {
    "collapsed": true
   },
   "outputs": [],
   "source": []
  }
 ],
 "metadata": {
  "celltoolbar": "Raw Cell Format",
  "kernelspec": {
   "display_name": "Python 3",
   "language": "python",
   "name": "python3"
  },
  "language_info": {
   "codemirror_mode": {
    "name": "ipython",
    "version": 3
   },
   "file_extension": ".py",
   "mimetype": "text/x-python",
   "name": "python",
   "nbconvert_exporter": "python",
   "pygments_lexer": "ipython3",
   "version": "3.6.1"
  }
 },
 "nbformat": 4,
 "nbformat_minor": 2
}
